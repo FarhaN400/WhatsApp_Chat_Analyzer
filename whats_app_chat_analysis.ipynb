{
 "cells": [
  {
   "cell_type": "code",
   "execution_count": 1,
   "id": "72b987b8",
   "metadata": {},
   "outputs": [],
   "source": [
    "import re\n",
    "import pandas as pd"
   ]
  },
  {
   "cell_type": "code",
   "execution_count": 2,
   "id": "f5efeef3",
   "metadata": {},
   "outputs": [],
   "source": [
    "f = open('Chat.txt','r',encoding='utf-8')"
   ]
  },
  {
   "cell_type": "code",
   "execution_count": 3,
   "id": "3de49c3d",
   "metadata": {},
   "outputs": [],
   "source": [
    "data = f.read()"
   ]
  },
  {
   "cell_type": "code",
   "execution_count": 4,
   "id": "eff58acd",
   "metadata": {},
   "outputs": [
    {
     "name": "stderr",
     "output_type": "stream",
     "text": [
      "<>:1: SyntaxWarning: invalid escape sequence '\\d'\n",
      "<>:1: SyntaxWarning: invalid escape sequence '\\d'\n",
      "/var/folders/s5/w767hn_x4z7db6683kjg2qdr0000gn/T/ipykernel_45833/2716954415.py:1: SyntaxWarning: invalid escape sequence '\\d'\n",
      "  pattern = '\\d{1,2}/\\d{1,2}/\\d{1,2},\\s\\d{1,2}:\\d{2}\\s-\\s'\n"
     ]
    }
   ],
   "source": [
    "pattern = '\\d{1,2}/\\d{1,2}/\\d{1,2},\\s\\d{1,2}:\\d{2}\\s-\\s'"
   ]
  },
  {
   "cell_type": "code",
   "execution_count": 5,
   "id": "a228b7e6",
   "metadata": {},
   "outputs": [],
   "source": [
    "masseges = re.split(pattern , data)[1:]\n",
    "#masseges"
   ]
  },
  {
   "cell_type": "code",
   "execution_count": 6,
   "id": "ea467dc0",
   "metadata": {},
   "outputs": [],
   "source": [
    "dates = re.findall(pattern,data)\n",
    "#dates"
   ]
  },
  {
   "cell_type": "code",
   "execution_count": 7,
   "id": "59acac17",
   "metadata": {},
   "outputs": [],
   "source": [
    "df = pd.DataFrame({'user_message':masseges , 'message_date':dates})\n",
    "\n",
    "df['message_date'] = pd.to_datetime(df['message_date'],format='%d/%m/%y, %H:%M - ')\n",
    "df.rename(columns={'message_date':'date'},inplace=True)\n"
   ]
  },
  {
   "cell_type": "code",
   "execution_count": 8,
   "id": "fb910796",
   "metadata": {},
   "outputs": [
    {
     "data": {
      "text/html": [
       "<div>\n",
       "<style scoped>\n",
       "    .dataframe tbody tr th:only-of-type {\n",
       "        vertical-align: middle;\n",
       "    }\n",
       "\n",
       "    .dataframe tbody tr th {\n",
       "        vertical-align: top;\n",
       "    }\n",
       "\n",
       "    .dataframe thead th {\n",
       "        text-align: right;\n",
       "    }\n",
       "</style>\n",
       "<table border=\"1\" class=\"dataframe\">\n",
       "  <thead>\n",
       "    <tr style=\"text-align: right;\">\n",
       "      <th></th>\n",
       "      <th>user_message</th>\n",
       "      <th>date</th>\n",
       "    </tr>\n",
       "  </thead>\n",
       "  <tbody>\n",
       "    <tr>\n",
       "      <th>0</th>\n",
       "      <td>Messages and calls are end-to-end encrypted. O...</td>\n",
       "      <td>2023-11-30 12:36:00</td>\n",
       "    </tr>\n",
       "    <tr>\n",
       "      <th>1</th>\n",
       "      <td>Prince Makaut created group \"MAKAUT ( Sem-1 Un...</td>\n",
       "      <td>2023-11-29 22:33:00</td>\n",
       "    </tr>\n",
       "    <tr>\n",
       "      <th>2</th>\n",
       "      <td>You joined using this group's invite link\\n</td>\n",
       "      <td>2023-11-30 12:36:00</td>\n",
       "    </tr>\n",
       "    <tr>\n",
       "      <th>3</th>\n",
       "      <td>Prince Makaut: Haa bhai\\n</td>\n",
       "      <td>2023-11-30 12:37:00</td>\n",
       "    </tr>\n",
       "    <tr>\n",
       "      <th>4</th>\n",
       "      <td>Nitesh Makaut joined using this group's invite...</td>\n",
       "      <td>2023-11-30 17:37:00</td>\n",
       "    </tr>\n",
       "  </tbody>\n",
       "</table>\n",
       "</div>"
      ],
      "text/plain": [
       "                                        user_message                date\n",
       "0  Messages and calls are end-to-end encrypted. O... 2023-11-30 12:36:00\n",
       "1  Prince Makaut created group \"MAKAUT ( Sem-1 Un... 2023-11-29 22:33:00\n",
       "2        You joined using this group's invite link\\n 2023-11-30 12:36:00\n",
       "3                          Prince Makaut: Haa bhai\\n 2023-11-30 12:37:00\n",
       "4  Nitesh Makaut joined using this group's invite... 2023-11-30 17:37:00"
      ]
     },
     "execution_count": 8,
     "metadata": {},
     "output_type": "execute_result"
    }
   ],
   "source": [
    "df.head()"
   ]
  },
  {
   "cell_type": "code",
   "execution_count": 9,
   "id": "fc42d508",
   "metadata": {},
   "outputs": [
    {
     "data": {
      "text/plain": [
       "(4354, 2)"
      ]
     },
     "execution_count": 9,
     "metadata": {},
     "output_type": "execute_result"
    }
   ],
   "source": [
    "df.shape"
   ]
  },
  {
   "cell_type": "code",
   "execution_count": 10,
   "id": "77544ab8",
   "metadata": {},
   "outputs": [
    {
     "name": "stderr",
     "output_type": "stream",
     "text": [
      "<>:7: SyntaxWarning: invalid escape sequence '\\w'\n",
      "<>:7: SyntaxWarning: invalid escape sequence '\\w'\n",
      "/var/folders/s5/w767hn_x4z7db6683kjg2qdr0000gn/T/ipykernel_45833/337832967.py:7: SyntaxWarning: invalid escape sequence '\\w'\n",
      "  entry = re.split('([\\w\\W]+?):\\s' , mssg)\n"
     ]
    }
   ],
   "source": [
    "# Separate users and message\n",
    "\n",
    "users =[]\n",
    "messsages = []\n",
    "\n",
    "for mssg in df['user_message']:\n",
    "    entry = re.split('([\\w\\W]+?):\\s' , mssg)\n",
    "    if entry[1:]:\n",
    "        users.append(entry[1])\n",
    "        messsages.append(entry[2])\n",
    "    else:\n",
    "        users.append('group_notification')\n",
    "        messsages.append(entry[0])\n",
    "\n",
    "df['users'] = users\n",
    "df['message'] = messsages\n",
    "\n",
    "df.drop(columns=['user_message'],inplace=True)\n"
   ]
  },
  {
   "cell_type": "code",
   "execution_count": 11,
   "id": "1c5a1848",
   "metadata": {},
   "outputs": [
    {
     "data": {
      "text/html": [
       "<div>\n",
       "<style scoped>\n",
       "    .dataframe tbody tr th:only-of-type {\n",
       "        vertical-align: middle;\n",
       "    }\n",
       "\n",
       "    .dataframe tbody tr th {\n",
       "        vertical-align: top;\n",
       "    }\n",
       "\n",
       "    .dataframe thead th {\n",
       "        text-align: right;\n",
       "    }\n",
       "</style>\n",
       "<table border=\"1\" class=\"dataframe\">\n",
       "  <thead>\n",
       "    <tr style=\"text-align: right;\">\n",
       "      <th></th>\n",
       "      <th>date</th>\n",
       "      <th>users</th>\n",
       "      <th>message</th>\n",
       "    </tr>\n",
       "  </thead>\n",
       "  <tbody>\n",
       "    <tr>\n",
       "      <th>1139</th>\n",
       "      <td>2024-04-29 21:09:00</td>\n",
       "      <td>Sritama Makaut</td>\n",
       "      <td>&lt;Media omitted&gt;\\n</td>\n",
       "    </tr>\n",
       "    <tr>\n",
       "      <th>933</th>\n",
       "      <td>2024-03-22 10:39:00</td>\n",
       "      <td>Madhusudan Singh Makaut</td>\n",
       "      <td>Academic\\n</td>\n",
       "    </tr>\n",
       "    <tr>\n",
       "      <th>1678</th>\n",
       "      <td>2024-07-18 21:26:00</td>\n",
       "      <td>Madhusudan Singh Makaut</td>\n",
       "      <td>Muskuraiye ap makaut me h\\n</td>\n",
       "    </tr>\n",
       "    <tr>\n",
       "      <th>22</th>\n",
       "      <td>2023-12-04 09:24:00</td>\n",
       "      <td>Nitesh Makaut</td>\n",
       "      <td>Oo\\n\\nKahi ghumne nikal ja mere bhai..\\n</td>\n",
       "    </tr>\n",
       "    <tr>\n",
       "      <th>168</th>\n",
       "      <td>2023-12-18 12:08:00</td>\n",
       "      <td>+91 77973 95173</td>\n",
       "      <td>Main math ka Assignment deke nikal lunga\\n</td>\n",
       "    </tr>\n",
       "    <tr>\n",
       "      <th>3282</th>\n",
       "      <td>2025-03-28 14:08:00</td>\n",
       "      <td>Hritik Makaut</td>\n",
       "      <td>Oyee koi coa ka lab copy banaya hai to mughe s...</td>\n",
       "    </tr>\n",
       "    <tr>\n",
       "      <th>425</th>\n",
       "      <td>2024-01-15 00:39:00</td>\n",
       "      <td>Prem Ranjan Makaut</td>\n",
       "      <td>Happy birthday @⁨MD MOAZZAM Makaut⁩ 🥳\\n</td>\n",
       "    </tr>\n",
       "    <tr>\n",
       "      <th>967</th>\n",
       "      <td>2024-03-27 12:02:00</td>\n",
       "      <td>Sritama Makaut</td>\n",
       "      <td>&lt;Media omitted&gt;\\n</td>\n",
       "    </tr>\n",
       "    <tr>\n",
       "      <th>3695</th>\n",
       "      <td>2025-06-16 22:24:00</td>\n",
       "      <td>+91 90640 36674</td>\n",
       "      <td>&lt;Media omitted&gt;\\n</td>\n",
       "    </tr>\n",
       "    <tr>\n",
       "      <th>1395</th>\n",
       "      <td>2024-06-18 01:57:00</td>\n",
       "      <td>Prem Ranjan Makaut</td>\n",
       "      <td>This message was deleted\\n</td>\n",
       "    </tr>\n",
       "  </tbody>\n",
       "</table>\n",
       "</div>"
      ],
      "text/plain": [
       "                    date                    users  \\\n",
       "1139 2024-04-29 21:09:00           Sritama Makaut   \n",
       "933  2024-03-22 10:39:00  Madhusudan Singh Makaut   \n",
       "1678 2024-07-18 21:26:00  Madhusudan Singh Makaut   \n",
       "22   2023-12-04 09:24:00            Nitesh Makaut   \n",
       "168  2023-12-18 12:08:00          +91 77973 95173   \n",
       "3282 2025-03-28 14:08:00            Hritik Makaut   \n",
       "425  2024-01-15 00:39:00       Prem Ranjan Makaut   \n",
       "967  2024-03-27 12:02:00           Sritama Makaut   \n",
       "3695 2025-06-16 22:24:00          +91 90640 36674   \n",
       "1395 2024-06-18 01:57:00       Prem Ranjan Makaut   \n",
       "\n",
       "                                                message  \n",
       "1139                                  <Media omitted>\\n  \n",
       "933                                          Academic\\n  \n",
       "1678                        Muskuraiye ap makaut me h\\n  \n",
       "22             Oo\\n\\nKahi ghumne nikal ja mere bhai..\\n  \n",
       "168          Main math ka Assignment deke nikal lunga\\n  \n",
       "3282  Oyee koi coa ka lab copy banaya hai to mughe s...  \n",
       "425             Happy birthday @⁨MD MOAZZAM Makaut⁩ 🥳\\n  \n",
       "967                                   <Media omitted>\\n  \n",
       "3695                                  <Media omitted>\\n  \n",
       "1395                         This message was deleted\\n  "
      ]
     },
     "execution_count": 11,
     "metadata": {},
     "output_type": "execute_result"
    }
   ],
   "source": [
    "df.sample(10)"
   ]
  },
  {
   "cell_type": "code",
   "execution_count": 12,
   "id": "3d5b8e68",
   "metadata": {},
   "outputs": [],
   "source": [
    "df['year']=df['date'].dt.year"
   ]
  },
  {
   "cell_type": "code",
   "execution_count": 13,
   "id": "ef09b8dc",
   "metadata": {},
   "outputs": [],
   "source": [
    "df['month'] = df['date'].dt.month_name()"
   ]
  },
  {
   "cell_type": "code",
   "execution_count": 14,
   "id": "62ccc02f",
   "metadata": {},
   "outputs": [
    {
     "data": {
      "text/html": [
       "<div>\n",
       "<style scoped>\n",
       "    .dataframe tbody tr th:only-of-type {\n",
       "        vertical-align: middle;\n",
       "    }\n",
       "\n",
       "    .dataframe tbody tr th {\n",
       "        vertical-align: top;\n",
       "    }\n",
       "\n",
       "    .dataframe thead th {\n",
       "        text-align: right;\n",
       "    }\n",
       "</style>\n",
       "<table border=\"1\" class=\"dataframe\">\n",
       "  <thead>\n",
       "    <tr style=\"text-align: right;\">\n",
       "      <th></th>\n",
       "      <th>date</th>\n",
       "      <th>users</th>\n",
       "      <th>message</th>\n",
       "      <th>year</th>\n",
       "      <th>month</th>\n",
       "    </tr>\n",
       "  </thead>\n",
       "  <tbody>\n",
       "    <tr>\n",
       "      <th>0</th>\n",
       "      <td>2023-11-30 12:36:00</td>\n",
       "      <td>group_notification</td>\n",
       "      <td>Messages and calls are end-to-end encrypted. O...</td>\n",
       "      <td>2023</td>\n",
       "      <td>November</td>\n",
       "    </tr>\n",
       "    <tr>\n",
       "      <th>1</th>\n",
       "      <td>2023-11-29 22:33:00</td>\n",
       "      <td>group_notification</td>\n",
       "      <td>Prince Makaut created group \"MAKAUT ( Sem-1 Un...</td>\n",
       "      <td>2023</td>\n",
       "      <td>November</td>\n",
       "    </tr>\n",
       "    <tr>\n",
       "      <th>2</th>\n",
       "      <td>2023-11-30 12:36:00</td>\n",
       "      <td>group_notification</td>\n",
       "      <td>You joined using this group's invite link\\n</td>\n",
       "      <td>2023</td>\n",
       "      <td>November</td>\n",
       "    </tr>\n",
       "    <tr>\n",
       "      <th>3</th>\n",
       "      <td>2023-11-30 12:37:00</td>\n",
       "      <td>Prince Makaut</td>\n",
       "      <td>Haa bhai\\n</td>\n",
       "      <td>2023</td>\n",
       "      <td>November</td>\n",
       "    </tr>\n",
       "    <tr>\n",
       "      <th>4</th>\n",
       "      <td>2023-11-30 17:37:00</td>\n",
       "      <td>group_notification</td>\n",
       "      <td>Nitesh Makaut joined using this group's invite...</td>\n",
       "      <td>2023</td>\n",
       "      <td>November</td>\n",
       "    </tr>\n",
       "  </tbody>\n",
       "</table>\n",
       "</div>"
      ],
      "text/plain": [
       "                 date               users  \\\n",
       "0 2023-11-30 12:36:00  group_notification   \n",
       "1 2023-11-29 22:33:00  group_notification   \n",
       "2 2023-11-30 12:36:00  group_notification   \n",
       "3 2023-11-30 12:37:00       Prince Makaut   \n",
       "4 2023-11-30 17:37:00  group_notification   \n",
       "\n",
       "                                             message  year     month  \n",
       "0  Messages and calls are end-to-end encrypted. O...  2023  November  \n",
       "1  Prince Makaut created group \"MAKAUT ( Sem-1 Un...  2023  November  \n",
       "2        You joined using this group's invite link\\n  2023  November  \n",
       "3                                         Haa bhai\\n  2023  November  \n",
       "4  Nitesh Makaut joined using this group's invite...  2023  November  "
      ]
     },
     "execution_count": 14,
     "metadata": {},
     "output_type": "execute_result"
    }
   ],
   "source": [
    "df.head()"
   ]
  },
  {
   "cell_type": "code",
   "execution_count": 15,
   "id": "e5a193b1",
   "metadata": {},
   "outputs": [],
   "source": [
    "df['day'] = df['date'].dt.day"
   ]
  },
  {
   "cell_type": "code",
   "execution_count": 16,
   "id": "d87db108",
   "metadata": {},
   "outputs": [],
   "source": [
    "df['hour'] = df['date'].dt.hour"
   ]
  },
  {
   "cell_type": "code",
   "execution_count": 17,
   "id": "61f02b9a",
   "metadata": {},
   "outputs": [],
   "source": [
    "df['minute'] = df['date'].dt.minute"
   ]
  },
  {
   "cell_type": "code",
   "execution_count": 18,
   "id": "f454c766",
   "metadata": {},
   "outputs": [
    {
     "data": {
      "text/html": [
       "<div>\n",
       "<style scoped>\n",
       "    .dataframe tbody tr th:only-of-type {\n",
       "        vertical-align: middle;\n",
       "    }\n",
       "\n",
       "    .dataframe tbody tr th {\n",
       "        vertical-align: top;\n",
       "    }\n",
       "\n",
       "    .dataframe thead th {\n",
       "        text-align: right;\n",
       "    }\n",
       "</style>\n",
       "<table border=\"1\" class=\"dataframe\">\n",
       "  <thead>\n",
       "    <tr style=\"text-align: right;\">\n",
       "      <th></th>\n",
       "      <th>date</th>\n",
       "      <th>users</th>\n",
       "      <th>message</th>\n",
       "      <th>year</th>\n",
       "      <th>month</th>\n",
       "      <th>day</th>\n",
       "      <th>hour</th>\n",
       "      <th>minute</th>\n",
       "    </tr>\n",
       "  </thead>\n",
       "  <tbody>\n",
       "    <tr>\n",
       "      <th>0</th>\n",
       "      <td>2023-11-30 12:36:00</td>\n",
       "      <td>group_notification</td>\n",
       "      <td>Messages and calls are end-to-end encrypted. O...</td>\n",
       "      <td>2023</td>\n",
       "      <td>November</td>\n",
       "      <td>30</td>\n",
       "      <td>12</td>\n",
       "      <td>36</td>\n",
       "    </tr>\n",
       "    <tr>\n",
       "      <th>1</th>\n",
       "      <td>2023-11-29 22:33:00</td>\n",
       "      <td>group_notification</td>\n",
       "      <td>Prince Makaut created group \"MAKAUT ( Sem-1 Un...</td>\n",
       "      <td>2023</td>\n",
       "      <td>November</td>\n",
       "      <td>29</td>\n",
       "      <td>22</td>\n",
       "      <td>33</td>\n",
       "    </tr>\n",
       "    <tr>\n",
       "      <th>2</th>\n",
       "      <td>2023-11-30 12:36:00</td>\n",
       "      <td>group_notification</td>\n",
       "      <td>You joined using this group's invite link\\n</td>\n",
       "      <td>2023</td>\n",
       "      <td>November</td>\n",
       "      <td>30</td>\n",
       "      <td>12</td>\n",
       "      <td>36</td>\n",
       "    </tr>\n",
       "    <tr>\n",
       "      <th>3</th>\n",
       "      <td>2023-11-30 12:37:00</td>\n",
       "      <td>Prince Makaut</td>\n",
       "      <td>Haa bhai\\n</td>\n",
       "      <td>2023</td>\n",
       "      <td>November</td>\n",
       "      <td>30</td>\n",
       "      <td>12</td>\n",
       "      <td>37</td>\n",
       "    </tr>\n",
       "    <tr>\n",
       "      <th>4</th>\n",
       "      <td>2023-11-30 17:37:00</td>\n",
       "      <td>group_notification</td>\n",
       "      <td>Nitesh Makaut joined using this group's invite...</td>\n",
       "      <td>2023</td>\n",
       "      <td>November</td>\n",
       "      <td>30</td>\n",
       "      <td>17</td>\n",
       "      <td>37</td>\n",
       "    </tr>\n",
       "  </tbody>\n",
       "</table>\n",
       "</div>"
      ],
      "text/plain": [
       "                 date               users  \\\n",
       "0 2023-11-30 12:36:00  group_notification   \n",
       "1 2023-11-29 22:33:00  group_notification   \n",
       "2 2023-11-30 12:36:00  group_notification   \n",
       "3 2023-11-30 12:37:00       Prince Makaut   \n",
       "4 2023-11-30 17:37:00  group_notification   \n",
       "\n",
       "                                             message  year     month  day  \\\n",
       "0  Messages and calls are end-to-end encrypted. O...  2023  November   30   \n",
       "1  Prince Makaut created group \"MAKAUT ( Sem-1 Un...  2023  November   29   \n",
       "2        You joined using this group's invite link\\n  2023  November   30   \n",
       "3                                         Haa bhai\\n  2023  November   30   \n",
       "4  Nitesh Makaut joined using this group's invite...  2023  November   30   \n",
       "\n",
       "   hour  minute  \n",
       "0    12      36  \n",
       "1    22      33  \n",
       "2    12      36  \n",
       "3    12      37  \n",
       "4    17      37  "
      ]
     },
     "execution_count": 18,
     "metadata": {},
     "output_type": "execute_result"
    }
   ],
   "source": [
    "df.head()"
   ]
  },
  {
   "cell_type": "code",
   "execution_count": 19,
   "id": "1b299f9c",
   "metadata": {},
   "outputs": [],
   "source": [
    "df.drop(columns=['date'],inplace=True)"
   ]
  },
  {
   "cell_type": "code",
   "execution_count": 20,
   "id": "d1990366",
   "metadata": {},
   "outputs": [
    {
     "data": {
      "text/html": [
       "<div>\n",
       "<style scoped>\n",
       "    .dataframe tbody tr th:only-of-type {\n",
       "        vertical-align: middle;\n",
       "    }\n",
       "\n",
       "    .dataframe tbody tr th {\n",
       "        vertical-align: top;\n",
       "    }\n",
       "\n",
       "    .dataframe thead th {\n",
       "        text-align: right;\n",
       "    }\n",
       "</style>\n",
       "<table border=\"1\" class=\"dataframe\">\n",
       "  <thead>\n",
       "    <tr style=\"text-align: right;\">\n",
       "      <th></th>\n",
       "      <th>users</th>\n",
       "      <th>message</th>\n",
       "      <th>year</th>\n",
       "      <th>month</th>\n",
       "      <th>day</th>\n",
       "      <th>hour</th>\n",
       "      <th>minute</th>\n",
       "    </tr>\n",
       "  </thead>\n",
       "  <tbody>\n",
       "    <tr>\n",
       "      <th>0</th>\n",
       "      <td>group_notification</td>\n",
       "      <td>Messages and calls are end-to-end encrypted. O...</td>\n",
       "      <td>2023</td>\n",
       "      <td>November</td>\n",
       "      <td>30</td>\n",
       "      <td>12</td>\n",
       "      <td>36</td>\n",
       "    </tr>\n",
       "    <tr>\n",
       "      <th>1</th>\n",
       "      <td>group_notification</td>\n",
       "      <td>Prince Makaut created group \"MAKAUT ( Sem-1 Un...</td>\n",
       "      <td>2023</td>\n",
       "      <td>November</td>\n",
       "      <td>29</td>\n",
       "      <td>22</td>\n",
       "      <td>33</td>\n",
       "    </tr>\n",
       "    <tr>\n",
       "      <th>2</th>\n",
       "      <td>group_notification</td>\n",
       "      <td>You joined using this group's invite link\\n</td>\n",
       "      <td>2023</td>\n",
       "      <td>November</td>\n",
       "      <td>30</td>\n",
       "      <td>12</td>\n",
       "      <td>36</td>\n",
       "    </tr>\n",
       "    <tr>\n",
       "      <th>3</th>\n",
       "      <td>Prince Makaut</td>\n",
       "      <td>Haa bhai\\n</td>\n",
       "      <td>2023</td>\n",
       "      <td>November</td>\n",
       "      <td>30</td>\n",
       "      <td>12</td>\n",
       "      <td>37</td>\n",
       "    </tr>\n",
       "    <tr>\n",
       "      <th>4</th>\n",
       "      <td>group_notification</td>\n",
       "      <td>Nitesh Makaut joined using this group's invite...</td>\n",
       "      <td>2023</td>\n",
       "      <td>November</td>\n",
       "      <td>30</td>\n",
       "      <td>17</td>\n",
       "      <td>37</td>\n",
       "    </tr>\n",
       "  </tbody>\n",
       "</table>\n",
       "</div>"
      ],
      "text/plain": [
       "                users                                            message  \\\n",
       "0  group_notification  Messages and calls are end-to-end encrypted. O...   \n",
       "1  group_notification  Prince Makaut created group \"MAKAUT ( Sem-1 Un...   \n",
       "2  group_notification        You joined using this group's invite link\\n   \n",
       "3       Prince Makaut                                         Haa bhai\\n   \n",
       "4  group_notification  Nitesh Makaut joined using this group's invite...   \n",
       "\n",
       "   year     month  day  hour  minute  \n",
       "0  2023  November   30    12      36  \n",
       "1  2023  November   29    22      33  \n",
       "2  2023  November   30    12      36  \n",
       "3  2023  November   30    12      37  \n",
       "4  2023  November   30    17      37  "
      ]
     },
     "execution_count": 20,
     "metadata": {},
     "output_type": "execute_result"
    }
   ],
   "source": [
    "df.head()"
   ]
  },
  {
   "cell_type": "code",
   "execution_count": 24,
   "id": "e7c37304",
   "metadata": {},
   "outputs": [
    {
     "data": {
      "text/plain": [
       "159"
      ]
     },
     "execution_count": 24,
     "metadata": {},
     "output_type": "execute_result"
    }
   ],
   "source": [
    "df[df['users']=='Prince Makaut'].shape[0]"
   ]
  },
  {
   "cell_type": "code",
   "execution_count": null,
   "id": "40265b86",
   "metadata": {},
   "outputs": [],
   "source": []
  }
 ],
 "metadata": {
  "kernelspec": {
   "display_name": "Python 3",
   "language": "python",
   "name": "python3"
  },
  "language_info": {
   "codemirror_mode": {
    "name": "ipython",
    "version": 3
   },
   "file_extension": ".py",
   "mimetype": "text/x-python",
   "name": "python",
   "nbconvert_exporter": "python",
   "pygments_lexer": "ipython3",
   "version": "3.12.6"
  }
 },
 "nbformat": 4,
 "nbformat_minor": 5
}
