{
 "cells": [
  {
   "cell_type": "code",
   "execution_count": 81,
   "id": "72b987b8",
   "metadata": {},
   "outputs": [],
   "source": [
    "import re\n",
    "import pandas as pd"
   ]
  },
  {
   "cell_type": "code",
   "execution_count": 82,
   "id": "f5efeef3",
   "metadata": {},
   "outputs": [],
   "source": [
    "f = open('Chat.txt','r',encoding='utf-8')"
   ]
  },
  {
   "cell_type": "code",
   "execution_count": 83,
   "id": "3de49c3d",
   "metadata": {},
   "outputs": [],
   "source": [
    "data = f.read()"
   ]
  },
  {
   "cell_type": "code",
   "execution_count": 84,
   "id": "eff58acd",
   "metadata": {},
   "outputs": [
    {
     "name": "stderr",
     "output_type": "stream",
     "text": [
      "<>:1: SyntaxWarning: invalid escape sequence '\\d'\n",
      "<>:1: SyntaxWarning: invalid escape sequence '\\d'\n",
      "/var/folders/s5/w767hn_x4z7db6683kjg2qdr0000gn/T/ipykernel_155/2716954415.py:1: SyntaxWarning: invalid escape sequence '\\d'\n",
      "  pattern = '\\d{1,2}/\\d{1,2}/\\d{1,2},\\s\\d{1,2}:\\d{2}\\s-\\s'\n"
     ]
    }
   ],
   "source": [
    "pattern = '\\d{1,2}/\\d{1,2}/\\d{1,2},\\s\\d{1,2}:\\d{2}\\s-\\s'"
   ]
  },
  {
   "cell_type": "code",
   "execution_count": 85,
   "id": "a228b7e6",
   "metadata": {},
   "outputs": [],
   "source": [
    "masseges = re.split(pattern , data)[1:]\n",
    "#masseges"
   ]
  },
  {
   "cell_type": "code",
   "execution_count": 86,
   "id": "ea467dc0",
   "metadata": {},
   "outputs": [],
   "source": [
    "dates = re.findall(pattern,data)\n",
    "#dates"
   ]
  },
  {
   "cell_type": "code",
   "execution_count": 87,
   "id": "59acac17",
   "metadata": {},
   "outputs": [],
   "source": [
    "df = pd.DataFrame({'user_message':masseges , 'message_date':dates})\n",
    "\n",
    "df['message_date'] = pd.to_datetime(df['message_date'],format='%d/%m/%y, %H:%M - ')\n",
    "df.rename(columns={'message_date':'date'},inplace=True)\n"
   ]
  },
  {
   "cell_type": "code",
   "execution_count": 88,
   "id": "fb910796",
   "metadata": {},
   "outputs": [
    {
     "data": {
      "text/html": [
       "<div>\n",
       "<style scoped>\n",
       "    .dataframe tbody tr th:only-of-type {\n",
       "        vertical-align: middle;\n",
       "    }\n",
       "\n",
       "    .dataframe tbody tr th {\n",
       "        vertical-align: top;\n",
       "    }\n",
       "\n",
       "    .dataframe thead th {\n",
       "        text-align: right;\n",
       "    }\n",
       "</style>\n",
       "<table border=\"1\" class=\"dataframe\">\n",
       "  <thead>\n",
       "    <tr style=\"text-align: right;\">\n",
       "      <th></th>\n",
       "      <th>user_message</th>\n",
       "      <th>date</th>\n",
       "    </tr>\n",
       "  </thead>\n",
       "  <tbody>\n",
       "    <tr>\n",
       "      <th>0</th>\n",
       "      <td>Messages and calls are end-to-end encrypted. O...</td>\n",
       "      <td>2023-11-30 12:36:00</td>\n",
       "    </tr>\n",
       "    <tr>\n",
       "      <th>1</th>\n",
       "      <td>Prince Makaut created group \"MAKAUT ( Sem-1 Un...</td>\n",
       "      <td>2023-11-29 22:33:00</td>\n",
       "    </tr>\n",
       "    <tr>\n",
       "      <th>2</th>\n",
       "      <td>You joined using this group's invite link\\n</td>\n",
       "      <td>2023-11-30 12:36:00</td>\n",
       "    </tr>\n",
       "    <tr>\n",
       "      <th>3</th>\n",
       "      <td>Prince Makaut: Haa bhai\\n</td>\n",
       "      <td>2023-11-30 12:37:00</td>\n",
       "    </tr>\n",
       "    <tr>\n",
       "      <th>4</th>\n",
       "      <td>Nitesh Makaut joined using this group's invite...</td>\n",
       "      <td>2023-11-30 17:37:00</td>\n",
       "    </tr>\n",
       "  </tbody>\n",
       "</table>\n",
       "</div>"
      ],
      "text/plain": [
       "                                        user_message                date\n",
       "0  Messages and calls are end-to-end encrypted. O... 2023-11-30 12:36:00\n",
       "1  Prince Makaut created group \"MAKAUT ( Sem-1 Un... 2023-11-29 22:33:00\n",
       "2        You joined using this group's invite link\\n 2023-11-30 12:36:00\n",
       "3                          Prince Makaut: Haa bhai\\n 2023-11-30 12:37:00\n",
       "4  Nitesh Makaut joined using this group's invite... 2023-11-30 17:37:00"
      ]
     },
     "execution_count": 88,
     "metadata": {},
     "output_type": "execute_result"
    }
   ],
   "source": [
    "df.head()"
   ]
  },
  {
   "cell_type": "code",
   "execution_count": 89,
   "id": "fc42d508",
   "metadata": {},
   "outputs": [
    {
     "data": {
      "text/plain": [
       "(4354, 2)"
      ]
     },
     "execution_count": 89,
     "metadata": {},
     "output_type": "execute_result"
    }
   ],
   "source": [
    "df.shape"
   ]
  },
  {
   "cell_type": "code",
   "execution_count": 90,
   "id": "77544ab8",
   "metadata": {},
   "outputs": [
    {
     "name": "stderr",
     "output_type": "stream",
     "text": [
      "<>:7: SyntaxWarning: invalid escape sequence '\\w'\n",
      "<>:7: SyntaxWarning: invalid escape sequence '\\w'\n",
      "/var/folders/s5/w767hn_x4z7db6683kjg2qdr0000gn/T/ipykernel_155/337832967.py:7: SyntaxWarning: invalid escape sequence '\\w'\n",
      "  entry = re.split('([\\w\\W]+?):\\s' , mssg)\n"
     ]
    }
   ],
   "source": [
    "# Separate users and message\n",
    "\n",
    "users =[]\n",
    "messsages = []\n",
    "\n",
    "for mssg in df['user_message']:\n",
    "    entry = re.split('([\\w\\W]+?):\\s' , mssg)\n",
    "    if entry[1:]:\n",
    "        users.append(entry[1])\n",
    "        messsages.append(entry[2])\n",
    "    else:\n",
    "        users.append('group_notification')\n",
    "        messsages.append(entry[0])\n",
    "\n",
    "df['users'] = users\n",
    "df['message'] = messsages\n",
    "\n",
    "df.drop(columns=['user_message'],inplace=True)\n"
   ]
  },
  {
   "cell_type": "code",
   "execution_count": 91,
   "id": "1c5a1848",
   "metadata": {},
   "outputs": [
    {
     "data": {
      "text/html": [
       "<div>\n",
       "<style scoped>\n",
       "    .dataframe tbody tr th:only-of-type {\n",
       "        vertical-align: middle;\n",
       "    }\n",
       "\n",
       "    .dataframe tbody tr th {\n",
       "        vertical-align: top;\n",
       "    }\n",
       "\n",
       "    .dataframe thead th {\n",
       "        text-align: right;\n",
       "    }\n",
       "</style>\n",
       "<table border=\"1\" class=\"dataframe\">\n",
       "  <thead>\n",
       "    <tr style=\"text-align: right;\">\n",
       "      <th></th>\n",
       "      <th>date</th>\n",
       "      <th>users</th>\n",
       "      <th>message</th>\n",
       "    </tr>\n",
       "  </thead>\n",
       "  <tbody>\n",
       "    <tr>\n",
       "      <th>1422</th>\n",
       "      <td>2024-06-20 11:56:00</td>\n",
       "      <td>Priyansh Srivastav Makaut</td>\n",
       "      <td>Happy birthday @⁨~Indrayudh⁩\\n</td>\n",
       "    </tr>\n",
       "    <tr>\n",
       "      <th>1293</th>\n",
       "      <td>2024-06-06 12:06:00</td>\n",
       "      <td>+91 62970 65903</td>\n",
       "      <td>Madam amar konsa আত্মীয় hoi j amar kotha sunbe\\n</td>\n",
       "    </tr>\n",
       "    <tr>\n",
       "      <th>682</th>\n",
       "      <td>2024-03-03 14:09:00</td>\n",
       "      <td>Priyansh Srivastav Makaut</td>\n",
       "      <td></td>\n",
       "    </tr>\n",
       "    <tr>\n",
       "      <th>4060</th>\n",
       "      <td>2025-09-10 23:02:00</td>\n",
       "      <td>Rohit Makaut</td>\n",
       "      <td>Kisi ko individually nei bty the bas class mai...</td>\n",
       "    </tr>\n",
       "    <tr>\n",
       "      <th>322</th>\n",
       "      <td>2024-01-01 00:30:00</td>\n",
       "      <td>Priyansh Srivastav Makaut</td>\n",
       "      <td>Happy new year 🎊\\n</td>\n",
       "    </tr>\n",
       "    <tr>\n",
       "      <th>3143</th>\n",
       "      <td>2025-03-05 22:09:00</td>\n",
       "      <td>Madhusudan Singh Makaut</td>\n",
       "      <td>Nhi\\n</td>\n",
       "    </tr>\n",
       "    <tr>\n",
       "      <th>2738</th>\n",
       "      <td>2025-01-12 20:13:00</td>\n",
       "      <td>Rohit Makaut</td>\n",
       "      <td>Mera 0\\n</td>\n",
       "    </tr>\n",
       "    <tr>\n",
       "      <th>1484</th>\n",
       "      <td>2024-06-28 06:20:00</td>\n",
       "      <td>Priyansh Srivastav Makaut</td>\n",
       "      <td>&lt;Media omitted&gt;\\n</td>\n",
       "    </tr>\n",
       "    <tr>\n",
       "      <th>260</th>\n",
       "      <td>2023-12-28 00:12:00</td>\n",
       "      <td>Harsh Pandey Makaut</td>\n",
       "      <td>Happy birthday @⁨Prem Ranjan Makaut⁩ 🎉🎈🎂❤️\\n</td>\n",
       "    </tr>\n",
       "    <tr>\n",
       "      <th>4255</th>\n",
       "      <td>2025-09-12 18:20:00</td>\n",
       "      <td>Suchana makaut</td>\n",
       "      <td>&lt;Media omitted&gt;\\n</td>\n",
       "    </tr>\n",
       "  </tbody>\n",
       "</table>\n",
       "</div>"
      ],
      "text/plain": [
       "                    date                      users  \\\n",
       "1422 2024-06-20 11:56:00  Priyansh Srivastav Makaut   \n",
       "1293 2024-06-06 12:06:00            +91 62970 65903   \n",
       "682  2024-03-03 14:09:00  Priyansh Srivastav Makaut   \n",
       "4060 2025-09-10 23:02:00               Rohit Makaut   \n",
       "322  2024-01-01 00:30:00  Priyansh Srivastav Makaut   \n",
       "3143 2025-03-05 22:09:00    Madhusudan Singh Makaut   \n",
       "2738 2025-01-12 20:13:00               Rohit Makaut   \n",
       "1484 2024-06-28 06:20:00  Priyansh Srivastav Makaut   \n",
       "260  2023-12-28 00:12:00        Harsh Pandey Makaut   \n",
       "4255 2025-09-12 18:20:00             Suchana makaut   \n",
       "\n",
       "                                                message  \n",
       "1422                     Happy birthday @⁨~Indrayudh⁩\\n  \n",
       "1293  Madam amar konsa আত্মীয় hoi j amar kotha sunbe\\n  \n",
       "682                                                      \n",
       "4060  Kisi ko individually nei bty the bas class mai...  \n",
       "322                                  Happy new year 🎊\\n  \n",
       "3143                                              Nhi\\n  \n",
       "2738                                           Mera 0\\n  \n",
       "1484                                  <Media omitted>\\n  \n",
       "260        Happy birthday @⁨Prem Ranjan Makaut⁩ 🎉🎈🎂❤️\\n  \n",
       "4255                                  <Media omitted>\\n  "
      ]
     },
     "execution_count": 91,
     "metadata": {},
     "output_type": "execute_result"
    }
   ],
   "source": [
    "df.sample(10)"
   ]
  },
  {
   "cell_type": "code",
   "execution_count": 92,
   "id": "3d5b8e68",
   "metadata": {},
   "outputs": [],
   "source": [
    "df['year']=df['date'].dt.year"
   ]
  },
  {
   "cell_type": "code",
   "execution_count": 93,
   "id": "ef09b8dc",
   "metadata": {},
   "outputs": [],
   "source": [
    "df['month'] = df['date'].dt.month_name()"
   ]
  },
  {
   "cell_type": "code",
   "execution_count": 94,
   "id": "62ccc02f",
   "metadata": {},
   "outputs": [
    {
     "data": {
      "text/html": [
       "<div>\n",
       "<style scoped>\n",
       "    .dataframe tbody tr th:only-of-type {\n",
       "        vertical-align: middle;\n",
       "    }\n",
       "\n",
       "    .dataframe tbody tr th {\n",
       "        vertical-align: top;\n",
       "    }\n",
       "\n",
       "    .dataframe thead th {\n",
       "        text-align: right;\n",
       "    }\n",
       "</style>\n",
       "<table border=\"1\" class=\"dataframe\">\n",
       "  <thead>\n",
       "    <tr style=\"text-align: right;\">\n",
       "      <th></th>\n",
       "      <th>date</th>\n",
       "      <th>users</th>\n",
       "      <th>message</th>\n",
       "      <th>year</th>\n",
       "      <th>month</th>\n",
       "    </tr>\n",
       "  </thead>\n",
       "  <tbody>\n",
       "    <tr>\n",
       "      <th>0</th>\n",
       "      <td>2023-11-30 12:36:00</td>\n",
       "      <td>group_notification</td>\n",
       "      <td>Messages and calls are end-to-end encrypted. O...</td>\n",
       "      <td>2023</td>\n",
       "      <td>November</td>\n",
       "    </tr>\n",
       "    <tr>\n",
       "      <th>1</th>\n",
       "      <td>2023-11-29 22:33:00</td>\n",
       "      <td>group_notification</td>\n",
       "      <td>Prince Makaut created group \"MAKAUT ( Sem-1 Un...</td>\n",
       "      <td>2023</td>\n",
       "      <td>November</td>\n",
       "    </tr>\n",
       "    <tr>\n",
       "      <th>2</th>\n",
       "      <td>2023-11-30 12:36:00</td>\n",
       "      <td>group_notification</td>\n",
       "      <td>You joined using this group's invite link\\n</td>\n",
       "      <td>2023</td>\n",
       "      <td>November</td>\n",
       "    </tr>\n",
       "    <tr>\n",
       "      <th>3</th>\n",
       "      <td>2023-11-30 12:37:00</td>\n",
       "      <td>Prince Makaut</td>\n",
       "      <td>Haa bhai\\n</td>\n",
       "      <td>2023</td>\n",
       "      <td>November</td>\n",
       "    </tr>\n",
       "    <tr>\n",
       "      <th>4</th>\n",
       "      <td>2023-11-30 17:37:00</td>\n",
       "      <td>group_notification</td>\n",
       "      <td>Nitesh Makaut joined using this group's invite...</td>\n",
       "      <td>2023</td>\n",
       "      <td>November</td>\n",
       "    </tr>\n",
       "  </tbody>\n",
       "</table>\n",
       "</div>"
      ],
      "text/plain": [
       "                 date               users  \\\n",
       "0 2023-11-30 12:36:00  group_notification   \n",
       "1 2023-11-29 22:33:00  group_notification   \n",
       "2 2023-11-30 12:36:00  group_notification   \n",
       "3 2023-11-30 12:37:00       Prince Makaut   \n",
       "4 2023-11-30 17:37:00  group_notification   \n",
       "\n",
       "                                             message  year     month  \n",
       "0  Messages and calls are end-to-end encrypted. O...  2023  November  \n",
       "1  Prince Makaut created group \"MAKAUT ( Sem-1 Un...  2023  November  \n",
       "2        You joined using this group's invite link\\n  2023  November  \n",
       "3                                         Haa bhai\\n  2023  November  \n",
       "4  Nitesh Makaut joined using this group's invite...  2023  November  "
      ]
     },
     "execution_count": 94,
     "metadata": {},
     "output_type": "execute_result"
    }
   ],
   "source": [
    "df.head()"
   ]
  },
  {
   "cell_type": "code",
   "execution_count": 95,
   "id": "e5a193b1",
   "metadata": {},
   "outputs": [],
   "source": [
    "df['day'] = df['date'].dt.day"
   ]
  },
  {
   "cell_type": "code",
   "execution_count": 96,
   "id": "d87db108",
   "metadata": {},
   "outputs": [],
   "source": [
    "df['hour'] = df['date'].dt.hour"
   ]
  },
  {
   "cell_type": "code",
   "execution_count": 97,
   "id": "61f02b9a",
   "metadata": {},
   "outputs": [],
   "source": [
    "df['minute'] = df['date'].dt.minute"
   ]
  },
  {
   "cell_type": "code",
   "execution_count": 98,
   "id": "f454c766",
   "metadata": {},
   "outputs": [
    {
     "data": {
      "text/html": [
       "<div>\n",
       "<style scoped>\n",
       "    .dataframe tbody tr th:only-of-type {\n",
       "        vertical-align: middle;\n",
       "    }\n",
       "\n",
       "    .dataframe tbody tr th {\n",
       "        vertical-align: top;\n",
       "    }\n",
       "\n",
       "    .dataframe thead th {\n",
       "        text-align: right;\n",
       "    }\n",
       "</style>\n",
       "<table border=\"1\" class=\"dataframe\">\n",
       "  <thead>\n",
       "    <tr style=\"text-align: right;\">\n",
       "      <th></th>\n",
       "      <th>date</th>\n",
       "      <th>users</th>\n",
       "      <th>message</th>\n",
       "      <th>year</th>\n",
       "      <th>month</th>\n",
       "      <th>day</th>\n",
       "      <th>hour</th>\n",
       "      <th>minute</th>\n",
       "    </tr>\n",
       "  </thead>\n",
       "  <tbody>\n",
       "    <tr>\n",
       "      <th>0</th>\n",
       "      <td>2023-11-30 12:36:00</td>\n",
       "      <td>group_notification</td>\n",
       "      <td>Messages and calls are end-to-end encrypted. O...</td>\n",
       "      <td>2023</td>\n",
       "      <td>November</td>\n",
       "      <td>30</td>\n",
       "      <td>12</td>\n",
       "      <td>36</td>\n",
       "    </tr>\n",
       "    <tr>\n",
       "      <th>1</th>\n",
       "      <td>2023-11-29 22:33:00</td>\n",
       "      <td>group_notification</td>\n",
       "      <td>Prince Makaut created group \"MAKAUT ( Sem-1 Un...</td>\n",
       "      <td>2023</td>\n",
       "      <td>November</td>\n",
       "      <td>29</td>\n",
       "      <td>22</td>\n",
       "      <td>33</td>\n",
       "    </tr>\n",
       "    <tr>\n",
       "      <th>2</th>\n",
       "      <td>2023-11-30 12:36:00</td>\n",
       "      <td>group_notification</td>\n",
       "      <td>You joined using this group's invite link\\n</td>\n",
       "      <td>2023</td>\n",
       "      <td>November</td>\n",
       "      <td>30</td>\n",
       "      <td>12</td>\n",
       "      <td>36</td>\n",
       "    </tr>\n",
       "    <tr>\n",
       "      <th>3</th>\n",
       "      <td>2023-11-30 12:37:00</td>\n",
       "      <td>Prince Makaut</td>\n",
       "      <td>Haa bhai\\n</td>\n",
       "      <td>2023</td>\n",
       "      <td>November</td>\n",
       "      <td>30</td>\n",
       "      <td>12</td>\n",
       "      <td>37</td>\n",
       "    </tr>\n",
       "    <tr>\n",
       "      <th>4</th>\n",
       "      <td>2023-11-30 17:37:00</td>\n",
       "      <td>group_notification</td>\n",
       "      <td>Nitesh Makaut joined using this group's invite...</td>\n",
       "      <td>2023</td>\n",
       "      <td>November</td>\n",
       "      <td>30</td>\n",
       "      <td>17</td>\n",
       "      <td>37</td>\n",
       "    </tr>\n",
       "  </tbody>\n",
       "</table>\n",
       "</div>"
      ],
      "text/plain": [
       "                 date               users  \\\n",
       "0 2023-11-30 12:36:00  group_notification   \n",
       "1 2023-11-29 22:33:00  group_notification   \n",
       "2 2023-11-30 12:36:00  group_notification   \n",
       "3 2023-11-30 12:37:00       Prince Makaut   \n",
       "4 2023-11-30 17:37:00  group_notification   \n",
       "\n",
       "                                             message  year     month  day  \\\n",
       "0  Messages and calls are end-to-end encrypted. O...  2023  November   30   \n",
       "1  Prince Makaut created group \"MAKAUT ( Sem-1 Un...  2023  November   29   \n",
       "2        You joined using this group's invite link\\n  2023  November   30   \n",
       "3                                         Haa bhai\\n  2023  November   30   \n",
       "4  Nitesh Makaut joined using this group's invite...  2023  November   30   \n",
       "\n",
       "   hour  minute  \n",
       "0    12      36  \n",
       "1    22      33  \n",
       "2    12      36  \n",
       "3    12      37  \n",
       "4    17      37  "
      ]
     },
     "execution_count": 98,
     "metadata": {},
     "output_type": "execute_result"
    }
   ],
   "source": [
    "df.head()"
   ]
  },
  {
   "cell_type": "code",
   "execution_count": 99,
   "id": "1b299f9c",
   "metadata": {},
   "outputs": [],
   "source": [
    "df.drop(columns=['date'],inplace=True)"
   ]
  },
  {
   "cell_type": "code",
   "execution_count": 101,
   "id": "d1990366",
   "metadata": {},
   "outputs": [
    {
     "data": {
      "text/html": [
       "<div>\n",
       "<style scoped>\n",
       "    .dataframe tbody tr th:only-of-type {\n",
       "        vertical-align: middle;\n",
       "    }\n",
       "\n",
       "    .dataframe tbody tr th {\n",
       "        vertical-align: top;\n",
       "    }\n",
       "\n",
       "    .dataframe thead th {\n",
       "        text-align: right;\n",
       "    }\n",
       "</style>\n",
       "<table border=\"1\" class=\"dataframe\">\n",
       "  <thead>\n",
       "    <tr style=\"text-align: right;\">\n",
       "      <th></th>\n",
       "      <th>users</th>\n",
       "      <th>message</th>\n",
       "      <th>year</th>\n",
       "      <th>month</th>\n",
       "      <th>day</th>\n",
       "      <th>hour</th>\n",
       "      <th>minute</th>\n",
       "    </tr>\n",
       "  </thead>\n",
       "  <tbody>\n",
       "    <tr>\n",
       "      <th>0</th>\n",
       "      <td>group_notification</td>\n",
       "      <td>Messages and calls are end-to-end encrypted. O...</td>\n",
       "      <td>2023</td>\n",
       "      <td>November</td>\n",
       "      <td>30</td>\n",
       "      <td>12</td>\n",
       "      <td>36</td>\n",
       "    </tr>\n",
       "    <tr>\n",
       "      <th>1</th>\n",
       "      <td>group_notification</td>\n",
       "      <td>Prince Makaut created group \"MAKAUT ( Sem-1 Un...</td>\n",
       "      <td>2023</td>\n",
       "      <td>November</td>\n",
       "      <td>29</td>\n",
       "      <td>22</td>\n",
       "      <td>33</td>\n",
       "    </tr>\n",
       "    <tr>\n",
       "      <th>2</th>\n",
       "      <td>group_notification</td>\n",
       "      <td>You joined using this group's invite link\\n</td>\n",
       "      <td>2023</td>\n",
       "      <td>November</td>\n",
       "      <td>30</td>\n",
       "      <td>12</td>\n",
       "      <td>36</td>\n",
       "    </tr>\n",
       "    <tr>\n",
       "      <th>3</th>\n",
       "      <td>Prince Makaut</td>\n",
       "      <td>Haa bhai\\n</td>\n",
       "      <td>2023</td>\n",
       "      <td>November</td>\n",
       "      <td>30</td>\n",
       "      <td>12</td>\n",
       "      <td>37</td>\n",
       "    </tr>\n",
       "    <tr>\n",
       "      <th>4</th>\n",
       "      <td>group_notification</td>\n",
       "      <td>Nitesh Makaut joined using this group's invite...</td>\n",
       "      <td>2023</td>\n",
       "      <td>November</td>\n",
       "      <td>30</td>\n",
       "      <td>17</td>\n",
       "      <td>37</td>\n",
       "    </tr>\n",
       "  </tbody>\n",
       "</table>\n",
       "</div>"
      ],
      "text/plain": [
       "                users                                            message  \\\n",
       "0  group_notification  Messages and calls are end-to-end encrypted. O...   \n",
       "1  group_notification  Prince Makaut created group \"MAKAUT ( Sem-1 Un...   \n",
       "2  group_notification        You joined using this group's invite link\\n   \n",
       "3       Prince Makaut                                         Haa bhai\\n   \n",
       "4  group_notification  Nitesh Makaut joined using this group's invite...   \n",
       "\n",
       "   year     month  day  hour  minute  \n",
       "0  2023  November   30    12      36  \n",
       "1  2023  November   29    22      33  \n",
       "2  2023  November   30    12      36  \n",
       "3  2023  November   30    12      37  \n",
       "4  2023  November   30    17      37  "
      ]
     },
     "execution_count": 101,
     "metadata": {},
     "output_type": "execute_result"
    }
   ],
   "source": [
    "df.head()"
   ]
  },
  {
   "cell_type": "code",
   "execution_count": null,
   "id": "e7c37304",
   "metadata": {},
   "outputs": [],
   "source": []
  }
 ],
 "metadata": {
  "kernelspec": {
   "display_name": "Python 3",
   "language": "python",
   "name": "python3"
  },
  "language_info": {
   "codemirror_mode": {
    "name": "ipython",
    "version": 3
   },
   "file_extension": ".py",
   "mimetype": "text/x-python",
   "name": "python",
   "nbconvert_exporter": "python",
   "pygments_lexer": "ipython3",
   "version": "3.12.6"
  }
 },
 "nbformat": 4,
 "nbformat_minor": 5
}
