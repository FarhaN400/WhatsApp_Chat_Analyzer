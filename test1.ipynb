{
 "cells": [
  {
   "cell_type": "code",
   "execution_count": 54,
   "id": "01cb1c9b",
   "metadata": {},
   "outputs": [],
   "source": [
    "import pandas as pd\n",
    "import re"
   ]
  },
  {
   "cell_type": "code",
   "execution_count": 76,
   "id": "d67b279d",
   "metadata": {},
   "outputs": [],
   "source": [
    "f = open('chat1.txt','r',encoding='utf-8')"
   ]
  },
  {
   "cell_type": "code",
   "execution_count": 77,
   "id": "0ea64a35",
   "metadata": {},
   "outputs": [
    {
     "data": {
      "text/plain": [
       "'19/09/25, 10:25\\u202fpm - Ritochit Ghosh Makaut changed this group\\'s icon\\n07/08/25, 12:26\\u202fam - Ritochit Ghosh Makaut created group \"Metamorph Hackathon\"\\n19/09/25, 10:22\\u202fpm - Ritochit Ghosh Makaut added you\\n19/09/25, 10:23\\u202fpm - Ritochit Ghosh Makaut changed the group name from \"Metamorph Hackathon\" to \"Hackspire\\'25\"\\n19/09/25, 10:23\\u202fpm - Ritochit Ghosh Makaut changed the group description\\n19/09/25, 10:23\\u202fpm - Ritochit Ghosh Makaut deleted the group description\\n19/09/25, 10:24\\u202fpm - Ritochit Ghosh Makaut changed the group description\\n19/09/25, 10:25\\u202fpm - Ritochit Ghosh Makaut: Team Code - 0d9e997f95\\n19/09/25, 10:26\\u202fpm - Ritochit Ghosh Makaut: Time left to submit the application: 10 days.\\n19/09/25, 10:26\\u202fpm - Ritochit Ghosh Makaut: Date of hackathon: 31st Oct - 1st Nov\\n19/09/25, 10:26\\u202fpm - Ritochit Ghosh Makaut pinned a message\\n19/09/25, 10:27\\u202fpm - Ritochit Ghosh Makaut: Devfolio link: https://hackspire25.devfolio.co/application\\n19/09/25, 10:28\\u202fpm - Ritochit Ghosh Makaut: @\\u2068Anshu Makaut\\u2069 Available hai na, 31st Oct ko? Weekend hi hai... Friday + Saturday\\n19/09/25, 10:29\\u202fpm - Ritochit Ghosh Makaut: Iss baar selection ho jayega... 🙂\\n19/09/25, 10:39\\u202fpm - Anshu Makaut: <Media omitted>\\n21/09/25, 4:51\\u202fpm - Ritochit Ghosh Makaut: Jaldi join karlo @\\u2068Aritra Makaut\\u2069 @\\u2068Sounak Makaut\\u2069 @\\u2068Anshu Makaut\\u2069 @\\u2068Ⓕαяђ𝒶ภ\\u2069\\n21/09/25, 10:24\\u202fpm - Arnab Da Makaut: @\\u2068Aritra Makaut\\u2069 and @\\u2068Ⓕαяђ𝒶ภ\\u2069, Please Join the Team ASAP. \\n\\nAnd everyone please associate a Professional DP in your Devfolio Profile to show it\\'s activeness, Otherwise we may not qualify. This things matter guys. We need to show off.\\n21/09/25, 10:39\\u202fpm - Ritochit Ghosh Makaut: Done. 👍\\n24/09/25, 8:10\\u202fpm - Ritochit Ghosh Makaut: @\\u2068Arnab Da Makaut\\u2069 da sobai onboard kore gache... <This message was edited>\\n24/09/25, 8:41\\u202fpm - Arnab Da Makaut: Okk, Ami Apply kore dicchi bari fire\\n26/09/25, 5:01\\u202fpm - Arnab Da Makaut: Everyone Fix a meeting today\\n26/09/25, 5:01\\u202fpm - Arnab Da Makaut: Pujor Por theke arombho korbo, plan ta kore ni\\n26/09/25, 5:49\\u202fpm - Ritochit Ghosh Makaut: Time??\\n26/09/25, 5:50\\u202fpm - Ritochit Ghosh Makaut: POLL:\\nTime?\\nOPTION: 7 PM (0 votes)\\nOPTION: 8 PM (0 votes)\\nOPTION: 9 PM (0 votes)\\nOPTION: 10 PM (4 votes)\\nOPTION: 11 PM (3 votes)\\n\\n26/09/25, 9:09\\u202fpm - Ritochit Ghosh Makaut: Then 10 : 30 PM ?? <This message was edited>\\n26/09/25, 9:36\\u202fpm - Arnab Da Makaut: 👍🏻\\n26/09/25, 9:37\\u202fpm - Arnab Da Makaut: Link pathas tui\\n26/09/25, 10:30\\u202fpm - Ritochit Ghosh Makaut: https://meet.google.com/qyv-ezus-moo\\n26/09/25, 10:37\\u202fpm - Ⓕαяђ𝒶ภ: https://devpost.com/software/kwik-know-who-s-in-krisis\\n26/09/25, 10:37\\u202fpm - Arnab Da Makaut: https://devpost.com/software/kwik-know-who-s-in-krisis\\n26/09/25, 10:58\\u202fpm - Ritochit Ghosh Makaut: https://leafletjs.com/\\n29/09/25, 12:31\\u202fam - Arnab Da Makaut: An email has been sent to me, regarding problem statements, hope you all also have received that.\\n\\nWe need to make a Powerpoint Presentation which needs to be submitted, The timeframe is starting from this 1st October.\\n29/09/25, 12:31\\u202fam - Ritochit Ghosh Makaut: yeah\\n29/09/25, 12:31\\u202fam - Ⓕαяђ𝒶ภ: Yes\\n29/09/25, 12:32\\u202fam - Arnab Da Makaut: So, if possible arrange a meet on 1st October or 2nd October, we need to gather all the bits and pieces of our idea.\\n29/09/25, 12:33\\u202fam - Arnab Da Makaut: Good night, enjoy this 2-3 days🩷, and fix the meet as per your availability.\\n29/09/25, 12:34\\u202fam - Arnab Da Makaut: As soon as possible\\n01/10/25, 1:24\\u202fam - Arnab Da Makaut: 7 october is the deadline. For ppt submission\\n02/10/25, 6:01\\u202fpm - Ⓕαяђ𝒶ภ: Aaj meeting rkhna h?\\n02/10/25, 6:02\\u202fpm - Ritochit Ghosh Makaut: Kaal karte hai...\\n02/10/25, 6:02\\u202fpm - Ⓕαяђ𝒶ภ: Ok\\n03/10/25, 4:52\\u202fpm - Arnab Da Makaut: Meeting Aaj Fix karo sablog, 8 PM?\\n03/10/25, 4:53\\u202fpm - Aritra Makaut: Ok 👍\\n03/10/25, 7:59\\u202fpm - Ritochit Ghosh Makaut: @\\u2068Arnab Da Makaut\\u2069 Link ?\\n03/10/25, 8:00\\u202fpm - Ritochit Ghosh Makaut: Mein send karu??\\n03/10/25, 8:00\\u202fpm - Arnab Da Makaut: dicchi\\n03/10/25, 8:00\\u202fpm - Arnab Da Makaut: https://meet.google.com/nxh-qvsh-qkc\\n03/10/25, 8:00\\u202fpm - Arnab Da Makaut: join kor\\n03/10/25, 8:46\\u202fpm - Ritochit Ghosh Makaut: https://excalidraw.com/#room=5d50d5c5c47353fc8ec8,BWL8CZ2-1tV2EsuMd50goA\\n03/10/25, 8:50\\u202fpm - Aritra Makaut: Refined Emergency Management System Concept\\nSystem Overview\\nAn AI-powered emergency response platform that uses the A2A Protocol (Agent-to-Agent) to intelligently route and process emergency calls, filtering non-emergencies while accelerating critical response times.\\nCore Problems Addressed\\n1. Call Volume Crisis\\n\\n64% of emergency calls are non-actionable (blank, prank, or non-emergency)\\nDelhi example: 10,000+ wasted calls daily out of 15,672 total\\nResults in dispatcher burnout, cognitive overload, and delayed emergency response\\n\\n2. Operational Inefficiencies\\n\\nManual severity assessment is slow and error-prone\\nRepetitive low-priority calls drain resources\\nPoor coordination between emergency services (Fire, Police, Medical, Disaster Response)\\nNo intelligent call prioritization system\\n\\n3. Communication Barriers\\n\\nIndia\\'s linguistic diversity (22+ official languages) creates response gaps\\nHuman operators can\\'t provide 24/7 multilingual support\\nRegional dialects further complicate communication\\n\\n4. Data & Decision-Making Gaps\\n\\nManual extraction of critical information (location, incident type, severity)\\nNo real-time resource allocation insights\\nLack of predictive analytics for emergency patterns\\nMissing emotional state assessment of callers\\n\\n5. Human-Centric Limitations\\n\\nInconsistent empathy and emotional support during trauma\\nFatigue-induced errors during high-stress periods\\nLimited capacity for simultaneous call handling\\n\\nProposed Solution Architecture\\nStage 1: Intelligent Call Filtering (Central Agent)\\n\\nAI-powered voice analysis detects blank/prank calls instantly\\nMulti-language NLP for real-time translation and transcription\\nAutomatic severity classification (Critical/High/Medium/Low)\\nEmotional state detection for caller support\\n\\nStage 2: Pub-Sub Routing (A2A Protocol)\\n\\nCategorizes emergencies: Fire, Accident, Natural Disaster, Police\\nParallel notification to relevant departments\\nConverts voice to structured JSON data with:\\n\\nLocation coordinates\\nIncident type and severity\\nRequired resources\\nCaller emotional state\\nMedical details (if applicable)\\n\\n\\n\\nStage 3: Intelligent Response Coordination\\n\\nReal-time resource availability dashboard\\nAutomated dispatch recommendations\\nCross-department coordination (e.g., Fire + Medical for accidents)\\nPredictive ETA calculations\\n\\nStage 4: Human-in-the-Loop Oversight\\n\\nActing users (dispatchers) review AI recommendations\\nOverride capabilities for complex situations\\nDatabase logging for audit trails and pattern analysis\\nContinuous learning from dispatcher feedback\\n\\nKey Benefits\\n✅ 60-70% reduction in wasted dispatcher time\\n✅ Faster response times through instant categorization\\n✅ 24/7 multilingual support across 22+ Indian languages\\n✅ Consistent empathy protocols for trauma support\\n✅ Data-driven insights for resource optimization\\n✅ Reduced dispatcher burnout through automation of repetitive tasks\\n✅ Scalable architecture to handle peak call volumes\\nSuccess Metrics\\n\\nAverage call processing time\\nFalse positive/negative rates for emergency detection\\nDispatcher satisfaction scores\\nEmergency response time improvements\\nCall deflection rate for non-emergencies\\nMulti-agency coordination efficiency\\n\\n\\nThis is essentially building an \"Innocent Porcupine\" - a system that appears harmless but has sharp defenses against time-wasting calls, protecting the critical emergency response pipeline. 🦔\\n04/10/25, 6:28\\u202fpm - Arnab Da Makaut: Today at 8 pm\\n04/10/25, 6:28\\u202fpm - Arnab Da Makaut: Link pathabo\\n04/10/25, 7:27\\u202fpm - Sounak Makaut: Dada Eta 8:30 ta theke kora jay ki ??\\nKaron ektu baire achi ghore dhukte around 8:20-25 hoye jabe 🥲 <This message was edited>\\n04/10/25, 7:27\\u202fpm - Arnab Da Makaut: Accha thikache, 8.30\\n04/10/25, 7:27\\u202fpm - Sounak Makaut: Thank you\\n04/10/25, 8:26\\u202fpm - Arnab Da Makaut: Guys please share your emails once. I will send a workspace link in Notion; do join. We shall have all the documentation over there to manage the project.\\n04/10/25, 8:27\\u202fpm - Aritra Makaut: aritraray05@icloud.com\\n04/10/25, 8:29\\u202fpm - Arnab Da Makaut: Join : https://meet.google.com/nxh-qvsh-qkc\\n04/10/25, 8:31\\u202fpm - Arnab Da Makaut: https://www.notion.so/team/bd05d5d1-d778-488c-9b23-fbb72c94b0fb/join\\n\\nJoin this notion,\\n04/10/25, 8:32\\u202fpm - Arnab Da Makaut: no need to send email ids\\n04/10/25, 11:16\\u202fpm - Ritochit Ghosh Makaut: https://ohio.stream-io-cdn.com/1431438/video/recordings/default_WjwHwDiW6xaj1DrfjNios/rec_default_WjwHwDiW6xaj1DrfjNios_1080p_1759599858288.mp4?Expires=1760809510&Signature=RhnGxw5baeh06Qra-rtGbpfAf-K~paJZxpu1EgqjdtGlPK2hY4iO7TISK4whlaVTIkVNjA7rxNB6mmo~bryqkJOyBqIUEeQ9vLFCwfDp7ps~t8S8Qe6KLINKMfNW-GIB0zLO4IjFde7arWosExqY2F-js1BVNdW8nWOV2a8thMSsiOr6A6dERisWhQLpRbW826lOw-8AC0L-rb5U2Ks2ltEhJoRYpsQSG-55Z6DLOsM14WwyH7G9nRP-GBACHgBYv9GpvDWxmlTU--kQyufl4WGB19lMHwGAB6fCrhstqRBKOIZUh9ArSCC1x7g8FVDB1i60TsNy8XMVCRIOrooghw__&Key-Pair-Id=APKAIHG36VEWPDULE23Q\\n04/10/25, 11:16\\u202fpm - Ritochit Ghosh Makaut: https://ohio.stream-io-cdn.com/1431438/video/transcriptions/default_WjwHwDiW6xaj1DrfjNios/transcript_default_WjwHwDiW6xaj1DrfjNios_1759599858498.jsonl?Expires=1760809510&Signature=faA6R~SjWcx~brIGISzqzmEiLSK4cI2gN6YqMkuyZXm9cCcQitirQ6103vAeVWRAJGrekqdiFcPILEzHCWl1QKZwR7R0JJJiPqTqmSEG8IRwfT3MVB1HkQQQJj-mdum~uwdSFRW7GMQzgMGPjelEGn3Qpw~cYqDrMCladGO3-kRlIwjioZefF4HJWUZ-Umf1PzZWLCNrcJW-Ty6zgOakXDdmGbY7AiFMN8uvTXJaB3LvOM~blzgGPzijZ7tA63K56fLh3JMsUBEFXL4Z2facTC1bbSOUqiFdkH3zR~9lnHTGIAv-Kln4OkYIEJqMNgmbr6bIseKb4IGZU1A8q7BFeg__&Key-Pair-Id=APKAIHG36VEWPDULE23Q\\n04/10/25, 11:17\\u202fpm - Ritochit Ghosh Makaut: transcript\\n04/10/25, 11:17\\u202fpm - Ritochit Ghosh Makaut: recording\\n05/10/25, 7:45\\u202fpm - Ritochit Ghosh Makaut: https://befitting-lens-774.notion.site/Problem-Statements-27cc78e1cf6380ed90f7c73eb56732b1\\n05/10/25, 7:45\\u202fpm - Ritochit Ghosh Makaut: problem statements\\n05/10/25, 8:48\\u202fpm - Ritochit Ghosh Makaut: <Media omitted>\\n05/10/25, 9:06\\u202fpm - Ritochit Ghosh Makaut: https://youtu.be/hDKBREokidU?si=yIz9Ag5KAnCHQ8bQ\\n05/10/25, 9:11\\u202fpm - Ritochit Ghosh Makaut: <Media omitted>\\n05/10/25, 9:21\\u202fpm - Sounak Makaut: https://www.canva.com/design/DAG07pdIDUs/wy5cli_1ktKnDdoGeW-u1A/edit?utm_content=DAG07pdIDUs&utm_campaign=designshare&utm_medium=link2&utm_source=sharebutton\\n06/10/25, 5:44\\u202fpm - Ritochit Ghosh Makaut: Meeting kitne baje se ??\\n06/10/25, 5:53\\u202fpm - Ritochit Ghosh Makaut: POLL:\\nTime ??\\nOPTION: 9 PM (1 vote)\\nOPTION: 10 PM (4 votes)\\n\\n'"
      ]
     },
     "execution_count": 77,
     "metadata": {},
     "output_type": "execute_result"
    }
   ],
   "source": [
    "data = f.read()\n",
    "data"
   ]
  },
  {
   "cell_type": "code",
   "execution_count": 78,
   "id": "21d6c668",
   "metadata": {},
   "outputs": [
    {
     "name": "stderr",
     "output_type": "stream",
     "text": [
      "<>:1: SyntaxWarning: invalid escape sequence '\\d'\n",
      "<>:2: SyntaxWarning: invalid escape sequence '\\d'\n",
      "<>:1: SyntaxWarning: invalid escape sequence '\\d'\n",
      "<>:2: SyntaxWarning: invalid escape sequence '\\d'\n",
      "/var/folders/s5/w767hn_x4z7db6683kjg2qdr0000gn/T/ipykernel_81890/3383341427.py:1: SyntaxWarning: invalid escape sequence '\\d'\n",
      "  pt1 = '\\d{1,2}/\\d{1,2}/\\d{1,2},\\s\\d{1,2}:\\d{2}\\s-\\s'\n",
      "/var/folders/s5/w767hn_x4z7db6683kjg2qdr0000gn/T/ipykernel_81890/3383341427.py:2: SyntaxWarning: invalid escape sequence '\\d'\n",
      "  pt2 = '\\d{1,2}/\\d{1,2}/\\d{2},\\s\\d{1,2}:\\d{2}(?:\\s[ap]m)?\\s-\\s'\n"
     ]
    }
   ],
   "source": [
    "pt1 = '\\d{1,2}/\\d{1,2}/\\d{1,2},\\s\\d{1,2}:\\d{2}\\s-\\s'\n",
    "pt2 = '\\d{1,2}/\\d{1,2}/\\d{2},\\s\\d{1,2}:\\d{2}(?:\\s[ap]m)?\\s-\\s'"
   ]
  },
  {
   "cell_type": "code",
   "execution_count": 79,
   "id": "42047720",
   "metadata": {},
   "outputs": [],
   "source": [
    "def find_pt(data):\n",
    "    p1 = re.findall(pt1,data)\n",
    "    p2 = re.findall(pt2,data)\n",
    "\n",
    "    if len(p1) != 0:\n",
    "        return pt1\n",
    "    else:\n",
    "        return pt2\n",
    "        \n"
   ]
  },
  {
   "cell_type": "code",
   "execution_count": 80,
   "id": "12a7ec6e",
   "metadata": {},
   "outputs": [],
   "source": [
    "pattern = find_pt(data)"
   ]
  },
  {
   "cell_type": "code",
   "execution_count": 81,
   "id": "adec5370",
   "metadata": {},
   "outputs": [
    {
     "data": {
      "text/plain": [
       "'\\\\d{1,2}/\\\\d{1,2}/\\\\d{2},\\\\s\\\\d{1,2}:\\\\d{2}(?:\\\\s[ap]m)?\\\\s-\\\\s'"
      ]
     },
     "execution_count": 81,
     "metadata": {},
     "output_type": "execute_result"
    }
   ],
   "source": [
    "pattern"
   ]
  },
  {
   "cell_type": "code",
   "execution_count": null,
   "id": "7cc21374",
   "metadata": {},
   "outputs": [],
   "source": []
  }
 ],
 "metadata": {
  "kernelspec": {
   "display_name": "venv",
   "language": "python",
   "name": "python3"
  },
  "language_info": {
   "codemirror_mode": {
    "name": "ipython",
    "version": 3
   },
   "file_extension": ".py",
   "mimetype": "text/x-python",
   "name": "python",
   "nbconvert_exporter": "python",
   "pygments_lexer": "ipython3",
   "version": "3.13.7"
  }
 },
 "nbformat": 4,
 "nbformat_minor": 5
}
